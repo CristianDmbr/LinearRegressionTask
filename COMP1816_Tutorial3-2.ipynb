{
 "cells": [
  {
   "cell_type": "markdown",
   "metadata": {
    "id": "iLTmRhhGjULD"
   },
   "source": [
    "# COMP1816 Tutorial Week 3 - Multivariable Models & Model Selection\n",
    "\n",
    "\n",
    "This tutorial will be expanding on the work done in week 2 on Linear Regression. First of all we will go through some more basic prinicples of performing an EDA, data cleaning and other proprocessing, then we will fit multivariable and polynomial models to our processed data.\n",
    "\n",
    "For this tutorial, read through and try to understand the text and code examples I have provided (ask your tutor if you have any questions) and there will be a selection of exercises. Attempt these exercises on your own, but do ask your tutor for help if you get stuck.\n",
    "\n"
   ]
  },
  {
   "cell_type": "markdown",
   "metadata": {
    "id": "DSo3PZoZeF3M"
   },
   "source": [
    "# 0. Do not forget to import all the Python Libraries being used!"
   ]
  },
  {
   "cell_type": "code",
   "execution_count": null,
   "metadata": {
    "id": "AIhPMWKy2ML2"
   },
   "outputs": [],
   "source": [
    "import numpy as np # A useful package for dealing with mathematical processes, we will be using it this week for vectors and matrices\n",
    "import pandas as pd # A common package for viewing tabular data\n",
    "import sklearn.linear_model, sklearn.datasets # We want to be able to access the sklearn datasets again, also we are using some model evaluation\n",
    "from sklearn.preprocessing import StandardScaler, MinMaxScaler # We will be using the imbuilt sclaing functions sklearn provides\n",
    "import matplotlib.pyplot as plt # We will be using Matplotlib for our graphs\n",
    "from sklearn.preprocessing import PolynomialFeatures # A preprocessing function allowing us to include polynomial features into our model\n",
    "from google.colab import files # We will be importing a csv file I have provided for one section.\n",
    "from sklearn.preprocessing import LabelEncoder, OneHotEncoder # We will be using these to encode categorical features\n",
    "from sklearn.model_selection import train_test_split # An sklearn library for outomatically splitting our data\n",
    "from sklearn.impute import SimpleImputer # Performs basic imputations when doing preprocessing\n",
    "pd.options.mode.chained_assignment = None  # default='warn'"
   ]
  },
  {
   "cell_type": "markdown",
   "metadata": {
    "id": "8UngIdVhz8C0"
   },
   "source": [
    "# 1. Data Pre-Processing\n",
    "\n",
    "A key part of any Machine Learning (or Data science in general) implementation is making sure that you understand your data and have prepared it to be in the most appropriate form for any modelling you intend to perform.\n",
    "\n",
    "As a rough rule, this stage involves performing an Exploratory Data Analysis (EDA) the help you understand our data and pre-processing which alters the data to put it into the format we want, which can include both data cleaning and steps that fundamentally change the data to make it work better with our models (such as the feature scaling examined last week, and the categorical feature encoding and polynomial feature creation we have introduced this week). This is a big topic on it's own, with differnt potential workflows that could lead to these results and we only scrape the surface in this module."
   ]
  },
  {
   "cell_type": "markdown",
   "metadata": {
    "id": "1L5pOUpk20lG"
   },
   "source": [
    "## 1.1 Loading\n",
    "\n",
    "For this problem, I have created a synthetic dataset which I have uploaded to moodle which has a number of issues we need to address before we can fit a good model. Please load this csv below (you will first have to download the file to your local file system from moodle).\n",
    "\n"
   ]
  },
  {
   "cell_type": "code",
   "execution_count": null,
   "metadata": {
    "colab": {
     "base_uri": "https://localhost:8080/",
     "height": 73
    },
    "id": "bN2OaTigZOGZ",
    "outputId": "958bebf3-e27c-42db-8e29-ce4113126b45"
   },
   "outputs": [],
   "source": [
    "uploaded = files.upload()    # Will prompt you to select file\n",
    "# Your file is now in the Colab filesystem on the left\n",
    "testData = pd.read_csv('examData_1.csv') # Save it to a pandas dataframe"
   ]
  },
  {
   "cell_type": "markdown",
   "metadata": {
    "id": "ojdvKcwZzfI_"
   },
   "source": [
    "This data shows the final grade of a selection of students from 4 different schools. We have the scores from their previous two mock papers and a quiz, but there are also a number of catgorical feature columns that we can't currently use."
   ]
  },
  {
   "cell_type": "markdown",
   "metadata": {
    "id": "PQtxu0inmrOQ"
   },
   "source": [
    "## 1.1 EDA\n",
    "Let's have a look at the data:"
   ]
  },
  {
   "cell_type": "code",
   "execution_count": null,
   "metadata": {
    "colab": {
     "base_uri": "https://localhost:8080/",
     "height": 424
    },
    "id": "fTjHI9buZv6m",
    "outputId": "7144a2bc-bea2-4d68-effd-c02b5140851b"
   },
   "outputs": [
    {
     "data": {
      "text/html": [
       "\n",
       "  <div id=\"df-d5142784-f0a8-40e1-805a-50180948e555\">\n",
       "    <div class=\"colab-df-container\">\n",
       "      <div>\n",
       "<style scoped>\n",
       "    .dataframe tbody tr th:only-of-type {\n",
       "        vertical-align: middle;\n",
       "    }\n",
       "\n",
       "    .dataframe tbody tr th {\n",
       "        vertical-align: top;\n",
       "    }\n",
       "\n",
       "    .dataframe thead th {\n",
       "        text-align: right;\n",
       "    }\n",
       "</style>\n",
       "<table border=\"1\" class=\"dataframe\">\n",
       "  <thead>\n",
       "    <tr style=\"text-align: right;\">\n",
       "      <th></th>\n",
       "      <th>studentID</th>\n",
       "      <th>mock1</th>\n",
       "      <th>mock2</th>\n",
       "      <th>quiz</th>\n",
       "      <th>studyTime</th>\n",
       "      <th>travelTime</th>\n",
       "      <th>absence</th>\n",
       "      <th>school</th>\n",
       "      <th>finalGrade</th>\n",
       "    </tr>\n",
       "  </thead>\n",
       "  <tbody>\n",
       "    <tr>\n",
       "      <th>0</th>\n",
       "      <td>KCI0001</td>\n",
       "      <td>47.0</td>\n",
       "      <td>58.0</td>\n",
       "      <td>12</td>\n",
       "      <td>241-480</td>\n",
       "      <td>61-120</td>\n",
       "      <td>No</td>\n",
       "      <td>KCI</td>\n",
       "      <td>75</td>\n",
       "    </tr>\n",
       "    <tr>\n",
       "      <th>1</th>\n",
       "      <td>KCI0002</td>\n",
       "      <td>58.0</td>\n",
       "      <td>80.0</td>\n",
       "      <td>15</td>\n",
       "      <td>241-480</td>\n",
       "      <td>61-120</td>\n",
       "      <td>No</td>\n",
       "      <td>KCI</td>\n",
       "      <td>94</td>\n",
       "    </tr>\n",
       "    <tr>\n",
       "      <th>2</th>\n",
       "      <td>KCI0003</td>\n",
       "      <td>19.0</td>\n",
       "      <td>32.0</td>\n",
       "      <td>5</td>\n",
       "      <td>121-240</td>\n",
       "      <td>61-120</td>\n",
       "      <td>Yes</td>\n",
       "      <td>KCI</td>\n",
       "      <td>19</td>\n",
       "    </tr>\n",
       "    <tr>\n",
       "      <th>3</th>\n",
       "      <td>KCI0004</td>\n",
       "      <td>30.0</td>\n",
       "      <td>45.0</td>\n",
       "      <td>15</td>\n",
       "      <td>241-480</td>\n",
       "      <td>61-120</td>\n",
       "      <td>No</td>\n",
       "      <td>KCI</td>\n",
       "      <td>63</td>\n",
       "    </tr>\n",
       "    <tr>\n",
       "      <th>4</th>\n",
       "      <td>KCI0005</td>\n",
       "      <td>36.0</td>\n",
       "      <td>58.0</td>\n",
       "      <td>11</td>\n",
       "      <td>121-240</td>\n",
       "      <td>0-30</td>\n",
       "      <td>Yes</td>\n",
       "      <td>KCI</td>\n",
       "      <td>53</td>\n",
       "    </tr>\n",
       "    <tr>\n",
       "      <th>...</th>\n",
       "      <td>...</td>\n",
       "      <td>...</td>\n",
       "      <td>...</td>\n",
       "      <td>...</td>\n",
       "      <td>...</td>\n",
       "      <td>...</td>\n",
       "      <td>...</td>\n",
       "      <td>...</td>\n",
       "      <td>...</td>\n",
       "    </tr>\n",
       "    <tr>\n",
       "      <th>395</th>\n",
       "      <td>QE200097</td>\n",
       "      <td>57.0</td>\n",
       "      <td>83.0</td>\n",
       "      <td>13</td>\n",
       "      <td>241-480</td>\n",
       "      <td>0-30</td>\n",
       "      <td>No</td>\n",
       "      <td>QE2</td>\n",
       "      <td>97</td>\n",
       "    </tr>\n",
       "    <tr>\n",
       "      <th>396</th>\n",
       "      <td>QE200098</td>\n",
       "      <td>55.0</td>\n",
       "      <td>55.0</td>\n",
       "      <td>13</td>\n",
       "      <td>241-480</td>\n",
       "      <td>31-60</td>\n",
       "      <td>No</td>\n",
       "      <td>QE2</td>\n",
       "      <td>64</td>\n",
       "    </tr>\n",
       "    <tr>\n",
       "      <th>397</th>\n",
       "      <td>QE200099</td>\n",
       "      <td>42.0</td>\n",
       "      <td>54.0</td>\n",
       "      <td>7</td>\n",
       "      <td>121-240</td>\n",
       "      <td>61-120</td>\n",
       "      <td>No</td>\n",
       "      <td>QE2</td>\n",
       "      <td>54</td>\n",
       "    </tr>\n",
       "    <tr>\n",
       "      <th>398</th>\n",
       "      <td>QE200100</td>\n",
       "      <td>55.0</td>\n",
       "      <td>49.0</td>\n",
       "      <td>11</td>\n",
       "      <td>241-480</td>\n",
       "      <td>61-120</td>\n",
       "      <td>No</td>\n",
       "      <td>QE2</td>\n",
       "      <td>55</td>\n",
       "    </tr>\n",
       "    <tr>\n",
       "      <th>399</th>\n",
       "      <td>QE200101</td>\n",
       "      <td>40.0</td>\n",
       "      <td>47.0</td>\n",
       "      <td>10</td>\n",
       "      <td>121-240</td>\n",
       "      <td>61-120</td>\n",
       "      <td>No</td>\n",
       "      <td>QE2</td>\n",
       "      <td>42</td>\n",
       "    </tr>\n",
       "  </tbody>\n",
       "</table>\n",
       "<p>400 rows × 9 columns</p>\n",
       "</div>\n",
       "      <button class=\"colab-df-convert\" onclick=\"convertToInteractive('df-d5142784-f0a8-40e1-805a-50180948e555')\"\n",
       "              title=\"Convert this dataframe to an interactive table.\"\n",
       "              style=\"display:none;\">\n",
       "        \n",
       "  <svg xmlns=\"http://www.w3.org/2000/svg\" height=\"24px\"viewBox=\"0 0 24 24\"\n",
       "       width=\"24px\">\n",
       "    <path d=\"M0 0h24v24H0V0z\" fill=\"none\"/>\n",
       "    <path d=\"M18.56 5.44l.94 2.06.94-2.06 2.06-.94-2.06-.94-.94-2.06-.94 2.06-2.06.94zm-11 1L8.5 8.5l.94-2.06 2.06-.94-2.06-.94L8.5 2.5l-.94 2.06-2.06.94zm10 10l.94 2.06.94-2.06 2.06-.94-2.06-.94-.94-2.06-.94 2.06-2.06.94z\"/><path d=\"M17.41 7.96l-1.37-1.37c-.4-.4-.92-.59-1.43-.59-.52 0-1.04.2-1.43.59L10.3 9.45l-7.72 7.72c-.78.78-.78 2.05 0 2.83L4 21.41c.39.39.9.59 1.41.59.51 0 1.02-.2 1.41-.59l7.78-7.78 2.81-2.81c.8-.78.8-2.07 0-2.86zM5.41 20L4 18.59l7.72-7.72 1.47 1.35L5.41 20z\"/>\n",
       "  </svg>\n",
       "      </button>\n",
       "      \n",
       "  <style>\n",
       "    .colab-df-container {\n",
       "      display:flex;\n",
       "      flex-wrap:wrap;\n",
       "      gap: 12px;\n",
       "    }\n",
       "\n",
       "    .colab-df-convert {\n",
       "      background-color: #E8F0FE;\n",
       "      border: none;\n",
       "      border-radius: 50%;\n",
       "      cursor: pointer;\n",
       "      display: none;\n",
       "      fill: #1967D2;\n",
       "      height: 32px;\n",
       "      padding: 0 0 0 0;\n",
       "      width: 32px;\n",
       "    }\n",
       "\n",
       "    .colab-df-convert:hover {\n",
       "      background-color: #E2EBFA;\n",
       "      box-shadow: 0px 1px 2px rgba(60, 64, 67, 0.3), 0px 1px 3px 1px rgba(60, 64, 67, 0.15);\n",
       "      fill: #174EA6;\n",
       "    }\n",
       "\n",
       "    [theme=dark] .colab-df-convert {\n",
       "      background-color: #3B4455;\n",
       "      fill: #D2E3FC;\n",
       "    }\n",
       "\n",
       "    [theme=dark] .colab-df-convert:hover {\n",
       "      background-color: #434B5C;\n",
       "      box-shadow: 0px 1px 3px 1px rgba(0, 0, 0, 0.15);\n",
       "      filter: drop-shadow(0px 1px 2px rgba(0, 0, 0, 0.3));\n",
       "      fill: #FFFFFF;\n",
       "    }\n",
       "  </style>\n",
       "\n",
       "      <script>\n",
       "        const buttonEl =\n",
       "          document.querySelector('#df-d5142784-f0a8-40e1-805a-50180948e555 button.colab-df-convert');\n",
       "        buttonEl.style.display =\n",
       "          google.colab.kernel.accessAllowed ? 'block' : 'none';\n",
       "\n",
       "        async function convertToInteractive(key) {\n",
       "          const element = document.querySelector('#df-d5142784-f0a8-40e1-805a-50180948e555');\n",
       "          const dataTable =\n",
       "            await google.colab.kernel.invokeFunction('convertToInteractive',\n",
       "                                                     [key], {});\n",
       "          if (!dataTable) return;\n",
       "\n",
       "          const docLinkHtml = 'Like what you see? Visit the ' +\n",
       "            '<a target=\"_blank\" href=https://colab.research.google.com/notebooks/data_table.ipynb>data table notebook</a>'\n",
       "            + ' to learn more about interactive tables.';\n",
       "          element.innerHTML = '';\n",
       "          dataTable['output_type'] = 'display_data';\n",
       "          await google.colab.output.renderOutput(dataTable, element);\n",
       "          const docLink = document.createElement('div');\n",
       "          docLink.innerHTML = docLinkHtml;\n",
       "          element.appendChild(docLink);\n",
       "        }\n",
       "      </script>\n",
       "    </div>\n",
       "  </div>\n",
       "  "
      ],
      "text/plain": [
       "    studentID  mock1  mock2  quiz studyTime travelTime absence school  \\\n",
       "0     KCI0001   47.0   58.0    12   241-480     61-120      No    KCI   \n",
       "1     KCI0002   58.0   80.0    15   241-480     61-120      No    KCI   \n",
       "2     KCI0003   19.0   32.0     5   121-240     61-120     Yes    KCI   \n",
       "3     KCI0004   30.0   45.0    15   241-480     61-120      No    KCI   \n",
       "4     KCI0005   36.0   58.0    11   121-240       0-30     Yes    KCI   \n",
       "..        ...    ...    ...   ...       ...        ...     ...    ...   \n",
       "395  QE200097   57.0   83.0    13   241-480       0-30      No    QE2   \n",
       "396  QE200098   55.0   55.0    13   241-480      31-60      No    QE2   \n",
       "397  QE200099   42.0   54.0     7   121-240     61-120      No    QE2   \n",
       "398  QE200100   55.0   49.0    11   241-480     61-120      No    QE2   \n",
       "399  QE200101   40.0   47.0    10   121-240     61-120      No    QE2   \n",
       "\n",
       "     finalGrade  \n",
       "0            75  \n",
       "1            94  \n",
       "2            19  \n",
       "3            63  \n",
       "4            53  \n",
       "..          ...  \n",
       "395          97  \n",
       "396          64  \n",
       "397          54  \n",
       "398          55  \n",
       "399          42  \n",
       "\n",
       "[400 rows x 9 columns]"
      ]
     },
     "metadata": {},
     "output_type": "display_data"
    }
   ],
   "source": [
    "# show the data\n",
    "display(testData)"
   ]
  },
  {
   "cell_type": "markdown",
   "metadata": {
    "id": "npMu1U4vpFSX"
   },
   "source": [
    "One thing you may notice is that while the first three columns are numerical, the rest of the data is all comprised of strings. So far we have only been considering feature columns that have been populated with numerical data, however it is not unusual to encounter datasets where the feature columns may include text values that have some meaning for the target predictions, however these must be converted into a numerical form somehow in order to be used by the machine learning algorithms.\n",
    "\n",
    "I will cover how to treat these 'categorical features' in our ML models later in the tutorial, but for now we will just consider how to fix any data problems we can find.\n",
    "\n",
    "First, let's split off our target and full feature matrix from the complete dataframe:"
   ]
  },
  {
   "cell_type": "code",
   "execution_count": null,
   "metadata": {
    "id": "mDlMv6kzt6cJ"
   },
   "outputs": [],
   "source": [
    "features=['studentID', 'mock1', 'mock2','quiz','studyTime','travelTime','absence','school']\n",
    "X_raw = testData[features]\n",
    "y_raw = testData['finalGrade']"
   ]
  },
  {
   "cell_type": "markdown",
   "metadata": {
    "id": "eQx-3IQ7qg05"
   },
   "source": [
    "Using the `shape` function is a good way of easily finding the dimensions of your dataset - in this case 8 columns (features) and 400 rows (data entries)."
   ]
  },
  {
   "cell_type": "code",
   "execution_count": null,
   "metadata": {
    "colab": {
     "base_uri": "https://localhost:8080/"
    },
    "id": "hmKIhPS4uzp0",
    "outputId": "e5574fc5-d253-4e80-d66d-bf5d07b10c48"
   },
   "outputs": [
    {
     "name": "stdout",
     "output_type": "stream",
     "text": [
      "(400, 8)\n"
     ]
    }
   ],
   "source": [
    "print(X_raw.shape)"
   ]
  },
  {
   "cell_type": "markdown",
   "metadata": {
    "id": "I5e25Vc1q0SZ"
   },
   "source": [
    "Let's just check our new `X_raw` is okay - this time I'm just using the head command which will only take the top (5 by default, but you can set the number in the brackets) rows, which is a useful function for just quikly checking the state of your data."
   ]
  },
  {
   "cell_type": "code",
   "execution_count": null,
   "metadata": {
    "colab": {
     "base_uri": "https://localhost:8080/",
     "height": 206
    },
    "id": "oLMMg0Onth_V",
    "outputId": "2e66ff41-7cef-4c5a-d077-752e7f7e0f26"
   },
   "outputs": [
    {
     "data": {
      "text/html": [
       "\n",
       "  <div id=\"df-1ba37f84-ed30-484c-949b-84bcd4391bdb\">\n",
       "    <div class=\"colab-df-container\">\n",
       "      <div>\n",
       "<style scoped>\n",
       "    .dataframe tbody tr th:only-of-type {\n",
       "        vertical-align: middle;\n",
       "    }\n",
       "\n",
       "    .dataframe tbody tr th {\n",
       "        vertical-align: top;\n",
       "    }\n",
       "\n",
       "    .dataframe thead th {\n",
       "        text-align: right;\n",
       "    }\n",
       "</style>\n",
       "<table border=\"1\" class=\"dataframe\">\n",
       "  <thead>\n",
       "    <tr style=\"text-align: right;\">\n",
       "      <th></th>\n",
       "      <th>studentID</th>\n",
       "      <th>mock1</th>\n",
       "      <th>mock2</th>\n",
       "      <th>quiz</th>\n",
       "      <th>studyTime</th>\n",
       "      <th>travelTime</th>\n",
       "      <th>absence</th>\n",
       "      <th>school</th>\n",
       "    </tr>\n",
       "  </thead>\n",
       "  <tbody>\n",
       "    <tr>\n",
       "      <th>0</th>\n",
       "      <td>KCI0001</td>\n",
       "      <td>47.0</td>\n",
       "      <td>58.0</td>\n",
       "      <td>12</td>\n",
       "      <td>241-480</td>\n",
       "      <td>61-120</td>\n",
       "      <td>No</td>\n",
       "      <td>KCI</td>\n",
       "    </tr>\n",
       "    <tr>\n",
       "      <th>1</th>\n",
       "      <td>KCI0002</td>\n",
       "      <td>58.0</td>\n",
       "      <td>80.0</td>\n",
       "      <td>15</td>\n",
       "      <td>241-480</td>\n",
       "      <td>61-120</td>\n",
       "      <td>No</td>\n",
       "      <td>KCI</td>\n",
       "    </tr>\n",
       "    <tr>\n",
       "      <th>2</th>\n",
       "      <td>KCI0003</td>\n",
       "      <td>19.0</td>\n",
       "      <td>32.0</td>\n",
       "      <td>5</td>\n",
       "      <td>121-240</td>\n",
       "      <td>61-120</td>\n",
       "      <td>Yes</td>\n",
       "      <td>KCI</td>\n",
       "    </tr>\n",
       "    <tr>\n",
       "      <th>3</th>\n",
       "      <td>KCI0004</td>\n",
       "      <td>30.0</td>\n",
       "      <td>45.0</td>\n",
       "      <td>15</td>\n",
       "      <td>241-480</td>\n",
       "      <td>61-120</td>\n",
       "      <td>No</td>\n",
       "      <td>KCI</td>\n",
       "    </tr>\n",
       "    <tr>\n",
       "      <th>4</th>\n",
       "      <td>KCI0005</td>\n",
       "      <td>36.0</td>\n",
       "      <td>58.0</td>\n",
       "      <td>11</td>\n",
       "      <td>121-240</td>\n",
       "      <td>0-30</td>\n",
       "      <td>Yes</td>\n",
       "      <td>KCI</td>\n",
       "    </tr>\n",
       "  </tbody>\n",
       "</table>\n",
       "</div>\n",
       "      <button class=\"colab-df-convert\" onclick=\"convertToInteractive('df-1ba37f84-ed30-484c-949b-84bcd4391bdb')\"\n",
       "              title=\"Convert this dataframe to an interactive table.\"\n",
       "              style=\"display:none;\">\n",
       "        \n",
       "  <svg xmlns=\"http://www.w3.org/2000/svg\" height=\"24px\"viewBox=\"0 0 24 24\"\n",
       "       width=\"24px\">\n",
       "    <path d=\"M0 0h24v24H0V0z\" fill=\"none\"/>\n",
       "    <path d=\"M18.56 5.44l.94 2.06.94-2.06 2.06-.94-2.06-.94-.94-2.06-.94 2.06-2.06.94zm-11 1L8.5 8.5l.94-2.06 2.06-.94-2.06-.94L8.5 2.5l-.94 2.06-2.06.94zm10 10l.94 2.06.94-2.06 2.06-.94-2.06-.94-.94-2.06-.94 2.06-2.06.94z\"/><path d=\"M17.41 7.96l-1.37-1.37c-.4-.4-.92-.59-1.43-.59-.52 0-1.04.2-1.43.59L10.3 9.45l-7.72 7.72c-.78.78-.78 2.05 0 2.83L4 21.41c.39.39.9.59 1.41.59.51 0 1.02-.2 1.41-.59l7.78-7.78 2.81-2.81c.8-.78.8-2.07 0-2.86zM5.41 20L4 18.59l7.72-7.72 1.47 1.35L5.41 20z\"/>\n",
       "  </svg>\n",
       "      </button>\n",
       "      \n",
       "  <style>\n",
       "    .colab-df-container {\n",
       "      display:flex;\n",
       "      flex-wrap:wrap;\n",
       "      gap: 12px;\n",
       "    }\n",
       "\n",
       "    .colab-df-convert {\n",
       "      background-color: #E8F0FE;\n",
       "      border: none;\n",
       "      border-radius: 50%;\n",
       "      cursor: pointer;\n",
       "      display: none;\n",
       "      fill: #1967D2;\n",
       "      height: 32px;\n",
       "      padding: 0 0 0 0;\n",
       "      width: 32px;\n",
       "    }\n",
       "\n",
       "    .colab-df-convert:hover {\n",
       "      background-color: #E2EBFA;\n",
       "      box-shadow: 0px 1px 2px rgba(60, 64, 67, 0.3), 0px 1px 3px 1px rgba(60, 64, 67, 0.15);\n",
       "      fill: #174EA6;\n",
       "    }\n",
       "\n",
       "    [theme=dark] .colab-df-convert {\n",
       "      background-color: #3B4455;\n",
       "      fill: #D2E3FC;\n",
       "    }\n",
       "\n",
       "    [theme=dark] .colab-df-convert:hover {\n",
       "      background-color: #434B5C;\n",
       "      box-shadow: 0px 1px 3px 1px rgba(0, 0, 0, 0.15);\n",
       "      filter: drop-shadow(0px 1px 2px rgba(0, 0, 0, 0.3));\n",
       "      fill: #FFFFFF;\n",
       "    }\n",
       "  </style>\n",
       "\n",
       "      <script>\n",
       "        const buttonEl =\n",
       "          document.querySelector('#df-1ba37f84-ed30-484c-949b-84bcd4391bdb button.colab-df-convert');\n",
       "        buttonEl.style.display =\n",
       "          google.colab.kernel.accessAllowed ? 'block' : 'none';\n",
       "\n",
       "        async function convertToInteractive(key) {\n",
       "          const element = document.querySelector('#df-1ba37f84-ed30-484c-949b-84bcd4391bdb');\n",
       "          const dataTable =\n",
       "            await google.colab.kernel.invokeFunction('convertToInteractive',\n",
       "                                                     [key], {});\n",
       "          if (!dataTable) return;\n",
       "\n",
       "          const docLinkHtml = 'Like what you see? Visit the ' +\n",
       "            '<a target=\"_blank\" href=https://colab.research.google.com/notebooks/data_table.ipynb>data table notebook</a>'\n",
       "            + ' to learn more about interactive tables.';\n",
       "          element.innerHTML = '';\n",
       "          dataTable['output_type'] = 'display_data';\n",
       "          await google.colab.output.renderOutput(dataTable, element);\n",
       "          const docLink = document.createElement('div');\n",
       "          docLink.innerHTML = docLinkHtml;\n",
       "          element.appendChild(docLink);\n",
       "        }\n",
       "      </script>\n",
       "    </div>\n",
       "  </div>\n",
       "  "
      ],
      "text/plain": [
       "  studentID  mock1  mock2  quiz studyTime travelTime absence school\n",
       "0   KCI0001   47.0   58.0    12   241-480     61-120      No    KCI\n",
       "1   KCI0002   58.0   80.0    15   241-480     61-120      No    KCI\n",
       "2   KCI0003   19.0   32.0     5   121-240     61-120     Yes    KCI\n",
       "3   KCI0004   30.0   45.0    15   241-480     61-120      No    KCI\n",
       "4   KCI0005   36.0   58.0    11   121-240       0-30     Yes    KCI"
      ]
     },
     "metadata": {},
     "output_type": "display_data"
    }
   ],
   "source": [
    "display(X_raw.head())"
   ]
  },
  {
   "cell_type": "markdown",
   "metadata": {
    "id": "Q3qpOJtirOOZ"
   },
   "source": [
    "Something we should always be thinking about is whether we actually want to use all of our columns, as we certainly don't want to include any irrelevant data in our features. In this case the studentID won't contribute anything to the model, as it is a unqiue identifier for each row, so we can safely remove this. But there can be other examples where data is collected but it just is not relevant to the target we are being asked to predict - such as if we also had information on the eye/hair colour of the students we would also almost certainly want that removed as these will be irrelvant for predicting their grades."
   ]
  },
  {
   "cell_type": "code",
   "execution_count": null,
   "metadata": {
    "colab": {
     "base_uri": "https://localhost:8080/",
     "height": 206
    },
    "id": "6SSdKmomu5Ed",
    "outputId": "1f9876b0-208b-4c49-98b5-9847e5ae935c"
   },
   "outputs": [
    {
     "data": {
      "text/html": [
       "\n",
       "  <div id=\"df-ab4067c6-3c47-4bb2-82cc-d70f4b8b1b07\">\n",
       "    <div class=\"colab-df-container\">\n",
       "      <div>\n",
       "<style scoped>\n",
       "    .dataframe tbody tr th:only-of-type {\n",
       "        vertical-align: middle;\n",
       "    }\n",
       "\n",
       "    .dataframe tbody tr th {\n",
       "        vertical-align: top;\n",
       "    }\n",
       "\n",
       "    .dataframe thead th {\n",
       "        text-align: right;\n",
       "    }\n",
       "</style>\n",
       "<table border=\"1\" class=\"dataframe\">\n",
       "  <thead>\n",
       "    <tr style=\"text-align: right;\">\n",
       "      <th></th>\n",
       "      <th>mock1</th>\n",
       "      <th>mock2</th>\n",
       "      <th>quiz</th>\n",
       "      <th>studyTime</th>\n",
       "      <th>travelTime</th>\n",
       "      <th>absence</th>\n",
       "      <th>school</th>\n",
       "    </tr>\n",
       "  </thead>\n",
       "  <tbody>\n",
       "    <tr>\n",
       "      <th>0</th>\n",
       "      <td>47.0</td>\n",
       "      <td>58.0</td>\n",
       "      <td>12</td>\n",
       "      <td>241-480</td>\n",
       "      <td>61-120</td>\n",
       "      <td>No</td>\n",
       "      <td>KCI</td>\n",
       "    </tr>\n",
       "    <tr>\n",
       "      <th>1</th>\n",
       "      <td>58.0</td>\n",
       "      <td>80.0</td>\n",
       "      <td>15</td>\n",
       "      <td>241-480</td>\n",
       "      <td>61-120</td>\n",
       "      <td>No</td>\n",
       "      <td>KCI</td>\n",
       "    </tr>\n",
       "    <tr>\n",
       "      <th>2</th>\n",
       "      <td>19.0</td>\n",
       "      <td>32.0</td>\n",
       "      <td>5</td>\n",
       "      <td>121-240</td>\n",
       "      <td>61-120</td>\n",
       "      <td>Yes</td>\n",
       "      <td>KCI</td>\n",
       "    </tr>\n",
       "    <tr>\n",
       "      <th>3</th>\n",
       "      <td>30.0</td>\n",
       "      <td>45.0</td>\n",
       "      <td>15</td>\n",
       "      <td>241-480</td>\n",
       "      <td>61-120</td>\n",
       "      <td>No</td>\n",
       "      <td>KCI</td>\n",
       "    </tr>\n",
       "    <tr>\n",
       "      <th>4</th>\n",
       "      <td>36.0</td>\n",
       "      <td>58.0</td>\n",
       "      <td>11</td>\n",
       "      <td>121-240</td>\n",
       "      <td>0-30</td>\n",
       "      <td>Yes</td>\n",
       "      <td>KCI</td>\n",
       "    </tr>\n",
       "  </tbody>\n",
       "</table>\n",
       "</div>\n",
       "      <button class=\"colab-df-convert\" onclick=\"convertToInteractive('df-ab4067c6-3c47-4bb2-82cc-d70f4b8b1b07')\"\n",
       "              title=\"Convert this dataframe to an interactive table.\"\n",
       "              style=\"display:none;\">\n",
       "        \n",
       "  <svg xmlns=\"http://www.w3.org/2000/svg\" height=\"24px\"viewBox=\"0 0 24 24\"\n",
       "       width=\"24px\">\n",
       "    <path d=\"M0 0h24v24H0V0z\" fill=\"none\"/>\n",
       "    <path d=\"M18.56 5.44l.94 2.06.94-2.06 2.06-.94-2.06-.94-.94-2.06-.94 2.06-2.06.94zm-11 1L8.5 8.5l.94-2.06 2.06-.94-2.06-.94L8.5 2.5l-.94 2.06-2.06.94zm10 10l.94 2.06.94-2.06 2.06-.94-2.06-.94-.94-2.06-.94 2.06-2.06.94z\"/><path d=\"M17.41 7.96l-1.37-1.37c-.4-.4-.92-.59-1.43-.59-.52 0-1.04.2-1.43.59L10.3 9.45l-7.72 7.72c-.78.78-.78 2.05 0 2.83L4 21.41c.39.39.9.59 1.41.59.51 0 1.02-.2 1.41-.59l7.78-7.78 2.81-2.81c.8-.78.8-2.07 0-2.86zM5.41 20L4 18.59l7.72-7.72 1.47 1.35L5.41 20z\"/>\n",
       "  </svg>\n",
       "      </button>\n",
       "      \n",
       "  <style>\n",
       "    .colab-df-container {\n",
       "      display:flex;\n",
       "      flex-wrap:wrap;\n",
       "      gap: 12px;\n",
       "    }\n",
       "\n",
       "    .colab-df-convert {\n",
       "      background-color: #E8F0FE;\n",
       "      border: none;\n",
       "      border-radius: 50%;\n",
       "      cursor: pointer;\n",
       "      display: none;\n",
       "      fill: #1967D2;\n",
       "      height: 32px;\n",
       "      padding: 0 0 0 0;\n",
       "      width: 32px;\n",
       "    }\n",
       "\n",
       "    .colab-df-convert:hover {\n",
       "      background-color: #E2EBFA;\n",
       "      box-shadow: 0px 1px 2px rgba(60, 64, 67, 0.3), 0px 1px 3px 1px rgba(60, 64, 67, 0.15);\n",
       "      fill: #174EA6;\n",
       "    }\n",
       "\n",
       "    [theme=dark] .colab-df-convert {\n",
       "      background-color: #3B4455;\n",
       "      fill: #D2E3FC;\n",
       "    }\n",
       "\n",
       "    [theme=dark] .colab-df-convert:hover {\n",
       "      background-color: #434B5C;\n",
       "      box-shadow: 0px 1px 3px 1px rgba(0, 0, 0, 0.15);\n",
       "      filter: drop-shadow(0px 1px 2px rgba(0, 0, 0, 0.3));\n",
       "      fill: #FFFFFF;\n",
       "    }\n",
       "  </style>\n",
       "\n",
       "      <script>\n",
       "        const buttonEl =\n",
       "          document.querySelector('#df-ab4067c6-3c47-4bb2-82cc-d70f4b8b1b07 button.colab-df-convert');\n",
       "        buttonEl.style.display =\n",
       "          google.colab.kernel.accessAllowed ? 'block' : 'none';\n",
       "\n",
       "        async function convertToInteractive(key) {\n",
       "          const element = document.querySelector('#df-ab4067c6-3c47-4bb2-82cc-d70f4b8b1b07');\n",
       "          const dataTable =\n",
       "            await google.colab.kernel.invokeFunction('convertToInteractive',\n",
       "                                                     [key], {});\n",
       "          if (!dataTable) return;\n",
       "\n",
       "          const docLinkHtml = 'Like what you see? Visit the ' +\n",
       "            '<a target=\"_blank\" href=https://colab.research.google.com/notebooks/data_table.ipynb>data table notebook</a>'\n",
       "            + ' to learn more about interactive tables.';\n",
       "          element.innerHTML = '';\n",
       "          dataTable['output_type'] = 'display_data';\n",
       "          await google.colab.output.renderOutput(dataTable, element);\n",
       "          const docLink = document.createElement('div');\n",
       "          docLink.innerHTML = docLinkHtml;\n",
       "          element.appendChild(docLink);\n",
       "        }\n",
       "      </script>\n",
       "    </div>\n",
       "  </div>\n",
       "  "
      ],
      "text/plain": [
       "   mock1  mock2  quiz studyTime travelTime absence school\n",
       "0   47.0   58.0    12   241-480     61-120      No    KCI\n",
       "1   58.0   80.0    15   241-480     61-120      No    KCI\n",
       "2   19.0   32.0     5   121-240     61-120     Yes    KCI\n",
       "3   30.0   45.0    15   241-480     61-120      No    KCI\n",
       "4   36.0   58.0    11   121-240       0-30     Yes    KCI"
      ]
     },
     "metadata": {},
     "output_type": "display_data"
    }
   ],
   "source": [
    "X_raw = X_raw.drop(columns=['studentID']) # Remove the studentID column using '.drop'\n",
    "display(X_raw.head())"
   ]
  },
  {
   "cell_type": "markdown",
   "metadata": {
    "id": "gelFaYmSsYW-"
   },
   "source": [
    "At this stage we need to start considering our numeric and categorical columns seperately, as the methods we use to clean and otherwise preprocess them are quite different. For now we want to keep them together in the raw data, but we can easily view them seperately."
   ]
  },
  {
   "cell_type": "code",
   "execution_count": null,
   "metadata": {
    "colab": {
     "base_uri": "https://localhost:8080/",
     "height": 709
    },
    "id": "PVargTebvElo",
    "outputId": "4e53c025-a519-4ebb-e789-b6af50c4e4ba"
   },
   "outputs": [
    {
     "data": {
      "text/html": [
       "\n",
       "  <div id=\"df-4b1b9b7e-f4cc-4a6f-bb39-43f0fb5e4ec9\">\n",
       "    <div class=\"colab-df-container\">\n",
       "      <div>\n",
       "<style scoped>\n",
       "    .dataframe tbody tr th:only-of-type {\n",
       "        vertical-align: middle;\n",
       "    }\n",
       "\n",
       "    .dataframe tbody tr th {\n",
       "        vertical-align: top;\n",
       "    }\n",
       "\n",
       "    .dataframe thead th {\n",
       "        text-align: right;\n",
       "    }\n",
       "</style>\n",
       "<table border=\"1\" class=\"dataframe\">\n",
       "  <thead>\n",
       "    <tr style=\"text-align: right;\">\n",
       "      <th></th>\n",
       "      <th>mock1</th>\n",
       "      <th>mock2</th>\n",
       "      <th>quiz</th>\n",
       "    </tr>\n",
       "  </thead>\n",
       "  <tbody>\n",
       "    <tr>\n",
       "      <th>0</th>\n",
       "      <td>47.0</td>\n",
       "      <td>58.0</td>\n",
       "      <td>12</td>\n",
       "    </tr>\n",
       "    <tr>\n",
       "      <th>1</th>\n",
       "      <td>58.0</td>\n",
       "      <td>80.0</td>\n",
       "      <td>15</td>\n",
       "    </tr>\n",
       "    <tr>\n",
       "      <th>2</th>\n",
       "      <td>19.0</td>\n",
       "      <td>32.0</td>\n",
       "      <td>5</td>\n",
       "    </tr>\n",
       "    <tr>\n",
       "      <th>3</th>\n",
       "      <td>30.0</td>\n",
       "      <td>45.0</td>\n",
       "      <td>15</td>\n",
       "    </tr>\n",
       "    <tr>\n",
       "      <th>4</th>\n",
       "      <td>36.0</td>\n",
       "      <td>58.0</td>\n",
       "      <td>11</td>\n",
       "    </tr>\n",
       "    <tr>\n",
       "      <th>5</th>\n",
       "      <td>38.0</td>\n",
       "      <td>37.0</td>\n",
       "      <td>11</td>\n",
       "    </tr>\n",
       "    <tr>\n",
       "      <th>6</th>\n",
       "      <td>56.0</td>\n",
       "      <td>67.0</td>\n",
       "      <td>13</td>\n",
       "    </tr>\n",
       "    <tr>\n",
       "      <th>7</th>\n",
       "      <td>46.0</td>\n",
       "      <td>64.0</td>\n",
       "      <td>12</td>\n",
       "    </tr>\n",
       "    <tr>\n",
       "      <th>8</th>\n",
       "      <td>35.0</td>\n",
       "      <td>38.0</td>\n",
       "      <td>7</td>\n",
       "    </tr>\n",
       "    <tr>\n",
       "      <th>9</th>\n",
       "      <td>63.0</td>\n",
       "      <td>59.0</td>\n",
       "      <td>13</td>\n",
       "    </tr>\n",
       "  </tbody>\n",
       "</table>\n",
       "</div>\n",
       "      <button class=\"colab-df-convert\" onclick=\"convertToInteractive('df-4b1b9b7e-f4cc-4a6f-bb39-43f0fb5e4ec9')\"\n",
       "              title=\"Convert this dataframe to an interactive table.\"\n",
       "              style=\"display:none;\">\n",
       "        \n",
       "  <svg xmlns=\"http://www.w3.org/2000/svg\" height=\"24px\"viewBox=\"0 0 24 24\"\n",
       "       width=\"24px\">\n",
       "    <path d=\"M0 0h24v24H0V0z\" fill=\"none\"/>\n",
       "    <path d=\"M18.56 5.44l.94 2.06.94-2.06 2.06-.94-2.06-.94-.94-2.06-.94 2.06-2.06.94zm-11 1L8.5 8.5l.94-2.06 2.06-.94-2.06-.94L8.5 2.5l-.94 2.06-2.06.94zm10 10l.94 2.06.94-2.06 2.06-.94-2.06-.94-.94-2.06-.94 2.06-2.06.94z\"/><path d=\"M17.41 7.96l-1.37-1.37c-.4-.4-.92-.59-1.43-.59-.52 0-1.04.2-1.43.59L10.3 9.45l-7.72 7.72c-.78.78-.78 2.05 0 2.83L4 21.41c.39.39.9.59 1.41.59.51 0 1.02-.2 1.41-.59l7.78-7.78 2.81-2.81c.8-.78.8-2.07 0-2.86zM5.41 20L4 18.59l7.72-7.72 1.47 1.35L5.41 20z\"/>\n",
       "  </svg>\n",
       "      </button>\n",
       "      \n",
       "  <style>\n",
       "    .colab-df-container {\n",
       "      display:flex;\n",
       "      flex-wrap:wrap;\n",
       "      gap: 12px;\n",
       "    }\n",
       "\n",
       "    .colab-df-convert {\n",
       "      background-color: #E8F0FE;\n",
       "      border: none;\n",
       "      border-radius: 50%;\n",
       "      cursor: pointer;\n",
       "      display: none;\n",
       "      fill: #1967D2;\n",
       "      height: 32px;\n",
       "      padding: 0 0 0 0;\n",
       "      width: 32px;\n",
       "    }\n",
       "\n",
       "    .colab-df-convert:hover {\n",
       "      background-color: #E2EBFA;\n",
       "      box-shadow: 0px 1px 2px rgba(60, 64, 67, 0.3), 0px 1px 3px 1px rgba(60, 64, 67, 0.15);\n",
       "      fill: #174EA6;\n",
       "    }\n",
       "\n",
       "    [theme=dark] .colab-df-convert {\n",
       "      background-color: #3B4455;\n",
       "      fill: #D2E3FC;\n",
       "    }\n",
       "\n",
       "    [theme=dark] .colab-df-convert:hover {\n",
       "      background-color: #434B5C;\n",
       "      box-shadow: 0px 1px 3px 1px rgba(0, 0, 0, 0.15);\n",
       "      filter: drop-shadow(0px 1px 2px rgba(0, 0, 0, 0.3));\n",
       "      fill: #FFFFFF;\n",
       "    }\n",
       "  </style>\n",
       "\n",
       "      <script>\n",
       "        const buttonEl =\n",
       "          document.querySelector('#df-4b1b9b7e-f4cc-4a6f-bb39-43f0fb5e4ec9 button.colab-df-convert');\n",
       "        buttonEl.style.display =\n",
       "          google.colab.kernel.accessAllowed ? 'block' : 'none';\n",
       "\n",
       "        async function convertToInteractive(key) {\n",
       "          const element = document.querySelector('#df-4b1b9b7e-f4cc-4a6f-bb39-43f0fb5e4ec9');\n",
       "          const dataTable =\n",
       "            await google.colab.kernel.invokeFunction('convertToInteractive',\n",
       "                                                     [key], {});\n",
       "          if (!dataTable) return;\n",
       "\n",
       "          const docLinkHtml = 'Like what you see? Visit the ' +\n",
       "            '<a target=\"_blank\" href=https://colab.research.google.com/notebooks/data_table.ipynb>data table notebook</a>'\n",
       "            + ' to learn more about interactive tables.';\n",
       "          element.innerHTML = '';\n",
       "          dataTable['output_type'] = 'display_data';\n",
       "          await google.colab.output.renderOutput(dataTable, element);\n",
       "          const docLink = document.createElement('div');\n",
       "          docLink.innerHTML = docLinkHtml;\n",
       "          element.appendChild(docLink);\n",
       "        }\n",
       "      </script>\n",
       "    </div>\n",
       "  </div>\n",
       "  "
      ],
      "text/plain": [
       "   mock1  mock2  quiz\n",
       "0   47.0   58.0    12\n",
       "1   58.0   80.0    15\n",
       "2   19.0   32.0     5\n",
       "3   30.0   45.0    15\n",
       "4   36.0   58.0    11\n",
       "5   38.0   37.0    11\n",
       "6   56.0   67.0    13\n",
       "7   46.0   64.0    12\n",
       "8   35.0   38.0     7\n",
       "9   63.0   59.0    13"
      ]
     },
     "metadata": {},
     "output_type": "display_data"
    },
    {
     "data": {
      "text/html": [
       "\n",
       "  <div id=\"df-5d149718-9c0d-41de-9ec2-de81482305f8\">\n",
       "    <div class=\"colab-df-container\">\n",
       "      <div>\n",
       "<style scoped>\n",
       "    .dataframe tbody tr th:only-of-type {\n",
       "        vertical-align: middle;\n",
       "    }\n",
       "\n",
       "    .dataframe tbody tr th {\n",
       "        vertical-align: top;\n",
       "    }\n",
       "\n",
       "    .dataframe thead th {\n",
       "        text-align: right;\n",
       "    }\n",
       "</style>\n",
       "<table border=\"1\" class=\"dataframe\">\n",
       "  <thead>\n",
       "    <tr style=\"text-align: right;\">\n",
       "      <th></th>\n",
       "      <th>studyTime</th>\n",
       "      <th>travelTime</th>\n",
       "      <th>absence</th>\n",
       "      <th>school</th>\n",
       "    </tr>\n",
       "  </thead>\n",
       "  <tbody>\n",
       "    <tr>\n",
       "      <th>0</th>\n",
       "      <td>241-480</td>\n",
       "      <td>61-120</td>\n",
       "      <td>No</td>\n",
       "      <td>KCI</td>\n",
       "    </tr>\n",
       "    <tr>\n",
       "      <th>1</th>\n",
       "      <td>241-480</td>\n",
       "      <td>61-120</td>\n",
       "      <td>No</td>\n",
       "      <td>KCI</td>\n",
       "    </tr>\n",
       "    <tr>\n",
       "      <th>2</th>\n",
       "      <td>121-240</td>\n",
       "      <td>61-120</td>\n",
       "      <td>Yes</td>\n",
       "      <td>KCI</td>\n",
       "    </tr>\n",
       "    <tr>\n",
       "      <th>3</th>\n",
       "      <td>241-480</td>\n",
       "      <td>61-120</td>\n",
       "      <td>No</td>\n",
       "      <td>KCI</td>\n",
       "    </tr>\n",
       "    <tr>\n",
       "      <th>4</th>\n",
       "      <td>121-240</td>\n",
       "      <td>0-30</td>\n",
       "      <td>Yes</td>\n",
       "      <td>KCI</td>\n",
       "    </tr>\n",
       "    <tr>\n",
       "      <th>5</th>\n",
       "      <td>241-480</td>\n",
       "      <td>61-120</td>\n",
       "      <td>No</td>\n",
       "      <td>KCI</td>\n",
       "    </tr>\n",
       "    <tr>\n",
       "      <th>6</th>\n",
       "      <td>61-120</td>\n",
       "      <td>0-30</td>\n",
       "      <td>Yes</td>\n",
       "      <td>KCI</td>\n",
       "    </tr>\n",
       "    <tr>\n",
       "      <th>7</th>\n",
       "      <td>61-120</td>\n",
       "      <td>61-120</td>\n",
       "      <td>Yes</td>\n",
       "      <td>KCI</td>\n",
       "    </tr>\n",
       "    <tr>\n",
       "      <th>8</th>\n",
       "      <td>241-480</td>\n",
       "      <td>61-120</td>\n",
       "      <td>No</td>\n",
       "      <td>KCI</td>\n",
       "    </tr>\n",
       "    <tr>\n",
       "      <th>9</th>\n",
       "      <td>241-480</td>\n",
       "      <td>61-120</td>\n",
       "      <td>No</td>\n",
       "      <td>KCI</td>\n",
       "    </tr>\n",
       "  </tbody>\n",
       "</table>\n",
       "</div>\n",
       "      <button class=\"colab-df-convert\" onclick=\"convertToInteractive('df-5d149718-9c0d-41de-9ec2-de81482305f8')\"\n",
       "              title=\"Convert this dataframe to an interactive table.\"\n",
       "              style=\"display:none;\">\n",
       "        \n",
       "  <svg xmlns=\"http://www.w3.org/2000/svg\" height=\"24px\"viewBox=\"0 0 24 24\"\n",
       "       width=\"24px\">\n",
       "    <path d=\"M0 0h24v24H0V0z\" fill=\"none\"/>\n",
       "    <path d=\"M18.56 5.44l.94 2.06.94-2.06 2.06-.94-2.06-.94-.94-2.06-.94 2.06-2.06.94zm-11 1L8.5 8.5l.94-2.06 2.06-.94-2.06-.94L8.5 2.5l-.94 2.06-2.06.94zm10 10l.94 2.06.94-2.06 2.06-.94-2.06-.94-.94-2.06-.94 2.06-2.06.94z\"/><path d=\"M17.41 7.96l-1.37-1.37c-.4-.4-.92-.59-1.43-.59-.52 0-1.04.2-1.43.59L10.3 9.45l-7.72 7.72c-.78.78-.78 2.05 0 2.83L4 21.41c.39.39.9.59 1.41.59.51 0 1.02-.2 1.41-.59l7.78-7.78 2.81-2.81c.8-.78.8-2.07 0-2.86zM5.41 20L4 18.59l7.72-7.72 1.47 1.35L5.41 20z\"/>\n",
       "  </svg>\n",
       "      </button>\n",
       "      \n",
       "  <style>\n",
       "    .colab-df-container {\n",
       "      display:flex;\n",
       "      flex-wrap:wrap;\n",
       "      gap: 12px;\n",
       "    }\n",
       "\n",
       "    .colab-df-convert {\n",
       "      background-color: #E8F0FE;\n",
       "      border: none;\n",
       "      border-radius: 50%;\n",
       "      cursor: pointer;\n",
       "      display: none;\n",
       "      fill: #1967D2;\n",
       "      height: 32px;\n",
       "      padding: 0 0 0 0;\n",
       "      width: 32px;\n",
       "    }\n",
       "\n",
       "    .colab-df-convert:hover {\n",
       "      background-color: #E2EBFA;\n",
       "      box-shadow: 0px 1px 2px rgba(60, 64, 67, 0.3), 0px 1px 3px 1px rgba(60, 64, 67, 0.15);\n",
       "      fill: #174EA6;\n",
       "    }\n",
       "\n",
       "    [theme=dark] .colab-df-convert {\n",
       "      background-color: #3B4455;\n",
       "      fill: #D2E3FC;\n",
       "    }\n",
       "\n",
       "    [theme=dark] .colab-df-convert:hover {\n",
       "      background-color: #434B5C;\n",
       "      box-shadow: 0px 1px 3px 1px rgba(0, 0, 0, 0.15);\n",
       "      filter: drop-shadow(0px 1px 2px rgba(0, 0, 0, 0.3));\n",
       "      fill: #FFFFFF;\n",
       "    }\n",
       "  </style>\n",
       "\n",
       "      <script>\n",
       "        const buttonEl =\n",
       "          document.querySelector('#df-5d149718-9c0d-41de-9ec2-de81482305f8 button.colab-df-convert');\n",
       "        buttonEl.style.display =\n",
       "          google.colab.kernel.accessAllowed ? 'block' : 'none';\n",
       "\n",
       "        async function convertToInteractive(key) {\n",
       "          const element = document.querySelector('#df-5d149718-9c0d-41de-9ec2-de81482305f8');\n",
       "          const dataTable =\n",
       "            await google.colab.kernel.invokeFunction('convertToInteractive',\n",
       "                                                     [key], {});\n",
       "          if (!dataTable) return;\n",
       "\n",
       "          const docLinkHtml = 'Like what you see? Visit the ' +\n",
       "            '<a target=\"_blank\" href=https://colab.research.google.com/notebooks/data_table.ipynb>data table notebook</a>'\n",
       "            + ' to learn more about interactive tables.';\n",
       "          element.innerHTML = '';\n",
       "          dataTable['output_type'] = 'display_data';\n",
       "          await google.colab.output.renderOutput(dataTable, element);\n",
       "          const docLink = document.createElement('div');\n",
       "          docLink.innerHTML = docLinkHtml;\n",
       "          element.appendChild(docLink);\n",
       "        }\n",
       "      </script>\n",
       "    </div>\n",
       "  </div>\n",
       "  "
      ],
      "text/plain": [
       "  studyTime travelTime absence school\n",
       "0   241-480     61-120      No    KCI\n",
       "1   241-480     61-120      No    KCI\n",
       "2   121-240     61-120     Yes    KCI\n",
       "3   241-480     61-120      No    KCI\n",
       "4   121-240       0-30     Yes    KCI\n",
       "5   241-480     61-120      No    KCI\n",
       "6    61-120       0-30     Yes    KCI\n",
       "7    61-120     61-120     Yes    KCI\n",
       "8   241-480     61-120      No    KCI\n",
       "9   241-480     61-120      No    KCI"
      ]
     },
     "metadata": {},
     "output_type": "display_data"
    }
   ],
   "source": [
    "display(X_raw.select_dtypes(include=np.number).head(10)) # display numeric colmuns\n",
    "display(X_raw.select_dtypes(exclude=np.number).head(10)) # display non-numeric colmuns"
   ]
  },
  {
   "cell_type": "markdown",
   "metadata": {
    "id": "RBKF1j-MtXQh"
   },
   "source": [
    "## 1.2 Dealing with outliers\n",
    "The best way to deal with outliers is always an open question - in fact, what even counts as an outlier is not always clear. We want to distinguish between outliers that tell us something (which we will often want to include in our model) and outliers that are clearly the result of errors. Once outliers are identified, you really need to treat them on a case by case basis - if there is a mistake, are you able to use your domain knowledge to fix it? Or will it be better to remove that data, either just that entry (leaving us with a blank entry we can impute - we will cover this later) or possibly the entire data row.\n",
    "\n",
    "First let's look at the numerical columns and see if there are any obvious outliers:"
   ]
  },
  {
   "cell_type": "code",
   "execution_count": null,
   "metadata": {
    "colab": {
     "base_uri": "https://localhost:8080/",
     "height": 300
    },
    "id": "7Kryqv5SvbgL",
    "outputId": "c9ceab86-c801-4077-dc4a-f49ccac80f77"
   },
   "outputs": [
    {
     "data": {
      "text/html": [
       "\n",
       "  <div id=\"df-4f1bd36d-971b-443e-8c9c-1ec5e49906be\">\n",
       "    <div class=\"colab-df-container\">\n",
       "      <div>\n",
       "<style scoped>\n",
       "    .dataframe tbody tr th:only-of-type {\n",
       "        vertical-align: middle;\n",
       "    }\n",
       "\n",
       "    .dataframe tbody tr th {\n",
       "        vertical-align: top;\n",
       "    }\n",
       "\n",
       "    .dataframe thead th {\n",
       "        text-align: right;\n",
       "    }\n",
       "</style>\n",
       "<table border=\"1\" class=\"dataframe\">\n",
       "  <thead>\n",
       "    <tr style=\"text-align: right;\">\n",
       "      <th></th>\n",
       "      <th>mock1</th>\n",
       "      <th>mock2</th>\n",
       "      <th>quiz</th>\n",
       "    </tr>\n",
       "  </thead>\n",
       "  <tbody>\n",
       "    <tr>\n",
       "      <th>count</th>\n",
       "      <td>396.000000</td>\n",
       "      <td>397.000000</td>\n",
       "      <td>398.000000</td>\n",
       "    </tr>\n",
       "    <tr>\n",
       "      <th>mean</th>\n",
       "      <td>50.174242</td>\n",
       "      <td>55.254408</td>\n",
       "      <td>10.806533</td>\n",
       "    </tr>\n",
       "    <tr>\n",
       "      <th>std</th>\n",
       "      <td>15.346049</td>\n",
       "      <td>18.064091</td>\n",
       "      <td>2.383879</td>\n",
       "    </tr>\n",
       "    <tr>\n",
       "      <th>min</th>\n",
       "      <td>9.000000</td>\n",
       "      <td>0.000000</td>\n",
       "      <td>4.000000</td>\n",
       "    </tr>\n",
       "    <tr>\n",
       "      <th>25%</th>\n",
       "      <td>40.000000</td>\n",
       "      <td>43.000000</td>\n",
       "      <td>9.000000</td>\n",
       "    </tr>\n",
       "    <tr>\n",
       "      <th>50%</th>\n",
       "      <td>50.000000</td>\n",
       "      <td>54.000000</td>\n",
       "      <td>11.000000</td>\n",
       "    </tr>\n",
       "    <tr>\n",
       "      <th>75%</th>\n",
       "      <td>61.000000</td>\n",
       "      <td>67.000000</td>\n",
       "      <td>12.000000</td>\n",
       "    </tr>\n",
       "    <tr>\n",
       "      <th>max</th>\n",
       "      <td>85.000000</td>\n",
       "      <td>100.000000</td>\n",
       "      <td>17.000000</td>\n",
       "    </tr>\n",
       "  </tbody>\n",
       "</table>\n",
       "</div>\n",
       "      <button class=\"colab-df-convert\" onclick=\"convertToInteractive('df-4f1bd36d-971b-443e-8c9c-1ec5e49906be')\"\n",
       "              title=\"Convert this dataframe to an interactive table.\"\n",
       "              style=\"display:none;\">\n",
       "        \n",
       "  <svg xmlns=\"http://www.w3.org/2000/svg\" height=\"24px\"viewBox=\"0 0 24 24\"\n",
       "       width=\"24px\">\n",
       "    <path d=\"M0 0h24v24H0V0z\" fill=\"none\"/>\n",
       "    <path d=\"M18.56 5.44l.94 2.06.94-2.06 2.06-.94-2.06-.94-.94-2.06-.94 2.06-2.06.94zm-11 1L8.5 8.5l.94-2.06 2.06-.94-2.06-.94L8.5 2.5l-.94 2.06-2.06.94zm10 10l.94 2.06.94-2.06 2.06-.94-2.06-.94-.94-2.06-.94 2.06-2.06.94z\"/><path d=\"M17.41 7.96l-1.37-1.37c-.4-.4-.92-.59-1.43-.59-.52 0-1.04.2-1.43.59L10.3 9.45l-7.72 7.72c-.78.78-.78 2.05 0 2.83L4 21.41c.39.39.9.59 1.41.59.51 0 1.02-.2 1.41-.59l7.78-7.78 2.81-2.81c.8-.78.8-2.07 0-2.86zM5.41 20L4 18.59l7.72-7.72 1.47 1.35L5.41 20z\"/>\n",
       "  </svg>\n",
       "      </button>\n",
       "      \n",
       "  <style>\n",
       "    .colab-df-container {\n",
       "      display:flex;\n",
       "      flex-wrap:wrap;\n",
       "      gap: 12px;\n",
       "    }\n",
       "\n",
       "    .colab-df-convert {\n",
       "      background-color: #E8F0FE;\n",
       "      border: none;\n",
       "      border-radius: 50%;\n",
       "      cursor: pointer;\n",
       "      display: none;\n",
       "      fill: #1967D2;\n",
       "      height: 32px;\n",
       "      padding: 0 0 0 0;\n",
       "      width: 32px;\n",
       "    }\n",
       "\n",
       "    .colab-df-convert:hover {\n",
       "      background-color: #E2EBFA;\n",
       "      box-shadow: 0px 1px 2px rgba(60, 64, 67, 0.3), 0px 1px 3px 1px rgba(60, 64, 67, 0.15);\n",
       "      fill: #174EA6;\n",
       "    }\n",
       "\n",
       "    [theme=dark] .colab-df-convert {\n",
       "      background-color: #3B4455;\n",
       "      fill: #D2E3FC;\n",
       "    }\n",
       "\n",
       "    [theme=dark] .colab-df-convert:hover {\n",
       "      background-color: #434B5C;\n",
       "      box-shadow: 0px 1px 3px 1px rgba(0, 0, 0, 0.15);\n",
       "      filter: drop-shadow(0px 1px 2px rgba(0, 0, 0, 0.3));\n",
       "      fill: #FFFFFF;\n",
       "    }\n",
       "  </style>\n",
       "\n",
       "      <script>\n",
       "        const buttonEl =\n",
       "          document.querySelector('#df-4f1bd36d-971b-443e-8c9c-1ec5e49906be button.colab-df-convert');\n",
       "        buttonEl.style.display =\n",
       "          google.colab.kernel.accessAllowed ? 'block' : 'none';\n",
       "\n",
       "        async function convertToInteractive(key) {\n",
       "          const element = document.querySelector('#df-4f1bd36d-971b-443e-8c9c-1ec5e49906be');\n",
       "          const dataTable =\n",
       "            await google.colab.kernel.invokeFunction('convertToInteractive',\n",
       "                                                     [key], {});\n",
       "          if (!dataTable) return;\n",
       "\n",
       "          const docLinkHtml = 'Like what you see? Visit the ' +\n",
       "            '<a target=\"_blank\" href=https://colab.research.google.com/notebooks/data_table.ipynb>data table notebook</a>'\n",
       "            + ' to learn more about interactive tables.';\n",
       "          element.innerHTML = '';\n",
       "          dataTable['output_type'] = 'display_data';\n",
       "          await google.colab.output.renderOutput(dataTable, element);\n",
       "          const docLink = document.createElement('div');\n",
       "          docLink.innerHTML = docLinkHtml;\n",
       "          element.appendChild(docLink);\n",
       "        }\n",
       "      </script>\n",
       "    </div>\n",
       "  </div>\n",
       "  "
      ],
      "text/plain": [
       "            mock1       mock2        quiz\n",
       "count  396.000000  397.000000  398.000000\n",
       "mean    50.174242   55.254408   10.806533\n",
       "std     15.346049   18.064091    2.383879\n",
       "min      9.000000    0.000000    4.000000\n",
       "25%     40.000000   43.000000    9.000000\n",
       "50%     50.000000   54.000000   11.000000\n",
       "75%     61.000000   67.000000   12.000000\n",
       "max     85.000000  100.000000   17.000000"
      ]
     },
     "metadata": {},
     "output_type": "display_data"
    }
   ],
   "source": [
    "display(X_raw.select_dtypes(include=np.number).describe())"
   ]
  },
  {
   "cell_type": "markdown",
   "metadata": {
    "id": "_zovaAZdBBoA"
   },
   "source": [
    "Describing numerical columns will provide us with various statistical information about our columns (Min, Max, Count, mean, standard deviation, quartiles). A few things jump out to me:\n",
    "\n",
    "*   The counts are low - we know there are supposed to be 400 data entires, so this would indicate we are missing values from all columns. More on how to deal with missing data later.\n",
    "*   The '-10' in mock1 seems to be an outlier, as the values are between 1 and 100.\n",
    "*   There seems to be at least one outlier in mock2, with a maximum value of '1000', which again seems to be way out of range.\n",
    "*   In the quiz there is a max value of 76 observed. Now, I would assume that this is an outlier as the rest of the values are in the range 0-20, so I will count this as an outlier. However, if we were not given information about the quiz score range it could be possible that this is accurate and just every other person really flunked this quiz marked out of 100.\n",
    "\n",
    "Assuming that the mocks are in the range 0-100 and the quiz in teh range 0-20, let's check for all the outlier rows:\n",
    "\n",
    "\n"
   ]
  },
  {
   "cell_type": "code",
   "execution_count": null,
   "metadata": {
    "colab": {
     "base_uri": "https://localhost:8080/"
    },
    "id": "J5VN9FW44J3a",
    "outputId": "dfe0fe34-f887-4cff-9a26-321009a4c190"
   },
   "outputs": [
    {
     "name": "stdout",
     "output_type": "stream",
     "text": [
      "     mock1   mock2  quiz studyTime travelTime absence school\n",
      "41    38.0   200.0    21      0-60      31-60      No    KCI\n",
      "43    80.0  1000.0    14   121-240     61-120      No    KCI\n",
      "88    71.0    76.0    76   241-480      31-60      No    KCI\n",
      "219  -10.0     NaN    14   241-480     61-120      No    KHV\n"
     ]
    }
   ],
   "source": [
    "print(X_raw[(X_raw['mock1'] < 0) | (X_raw['mock1'] > 100) | (X_raw['mock2'] < 0) | (X_raw['mock2'] > 100) | (X_raw['quiz'] < 0) | (X_raw['quiz'] > 20)])"
   ]
  },
  {
   "cell_type": "markdown",
   "metadata": {
    "id": "pdE9EYUgc4gD"
   },
   "source": [
    "Looking at this, there seens to be an extra potenteial outlier at line 41, where mock2 is '200' and quiz is '21. It's safe to assume that both lines 41 and 43 are outiers by error given our knowledge of the data. For line 43, given the other scores I would assume this is a typo and the students actually scored 100. Line 41 is less clear, as mock 1 was quite bad but mock2 and the quiz are both over the limit. It may not be a bad idea to remove both of these values and impute them, or possibly remove the entire line. Same arguement can be made for line 219 with quite a lot of missing data. Finally, line 88 has '76' for the quiz, which looks like a typo to me as this was the score they got for their mock2, however, this means we don't have anyhting to go on for the actual quiz score.\n",
    "\n",
    "We're unfortuantely going to have to treat these outlier quite specifically, but you may be able to set up a more general rule (e.g. remove any row/value outside of a certain threshold) in other cases."
   ]
  },
  {
   "cell_type": "code",
   "execution_count": null,
   "metadata": {
    "colab": {
     "base_uri": "https://localhost:8080/"
    },
    "id": "ZZQmFQBi5aQt",
    "outputId": "ca9d8cbd-4a58-4643-cfa1-c5fb55afeb83"
   },
   "outputs": [
    {
     "name": "stdout",
     "output_type": "stream",
     "text": [
      "Empty DataFrame\n",
      "Columns: [mock1, mock2, quiz, studyTime, travelTime, absence, school]\n",
      "Index: []\n"
     ]
    }
   ],
   "source": [
    "# Row 43 - Set the 1000 to be 100\n",
    "X_raw.loc[X_raw.mock2==1000,'mock2'] = 100\n",
    "# Row 41 - I don't trust the mock or the quiz score, and don't feel we can make any assumpions ourself, so I will just remove them\n",
    "# Row 88 - Likewise, we can't trust the quiz score, so remove it\n",
    "X_raw.loc[X_raw.mock2==200,'mock2'] = np.nan\n",
    "X_raw.loc[X_raw.quiz>20,'quiz'] = np.nan\n",
    "# Row 219 - Let's just set the negative to be a zero, but we could also justify removing the data point or even the entire row.\n",
    "X_raw.loc[X_raw.mock1<0,'mock1'] = np.nan\n",
    "print(X_raw[(X_raw['mock1'] < 0) | (X_raw['mock1'] > 100) | (X_raw['mock2'] < 0) | (X_raw['mock2'] > 100) | (X_raw['quiz'] < 0) | (X_raw['quiz'] > 20)])"
   ]
  },
  {
   "cell_type": "markdown",
   "metadata": {
    "id": "kcnVUwp2kT2X"
   },
   "source": [
    "Now we need to consider the categorical columns. We can see there is still come missing data here, but I think we have a problem with 'absence' as is should only be binary yes/no."
   ]
  },
  {
   "cell_type": "code",
   "execution_count": null,
   "metadata": {
    "colab": {
     "base_uri": "https://localhost:8080/",
     "height": 175
    },
    "id": "0tkdskw3vl1X",
    "outputId": "ac4c6852-9ee4-48e6-b5ea-d91bf7c12e77"
   },
   "outputs": [
    {
     "data": {
      "text/html": [
       "\n",
       "  <div id=\"df-3d28d70b-f58f-4091-a36f-df08facb5021\">\n",
       "    <div class=\"colab-df-container\">\n",
       "      <div>\n",
       "<style scoped>\n",
       "    .dataframe tbody tr th:only-of-type {\n",
       "        vertical-align: middle;\n",
       "    }\n",
       "\n",
       "    .dataframe tbody tr th {\n",
       "        vertical-align: top;\n",
       "    }\n",
       "\n",
       "    .dataframe thead th {\n",
       "        text-align: right;\n",
       "    }\n",
       "</style>\n",
       "<table border=\"1\" class=\"dataframe\">\n",
       "  <thead>\n",
       "    <tr style=\"text-align: right;\">\n",
       "      <th></th>\n",
       "      <th>studyTime</th>\n",
       "      <th>travelTime</th>\n",
       "      <th>absence</th>\n",
       "      <th>school</th>\n",
       "    </tr>\n",
       "  </thead>\n",
       "  <tbody>\n",
       "    <tr>\n",
       "      <th>count</th>\n",
       "      <td>398</td>\n",
       "      <td>398</td>\n",
       "      <td>397</td>\n",
       "      <td>400</td>\n",
       "    </tr>\n",
       "    <tr>\n",
       "      <th>unique</th>\n",
       "      <td>4</td>\n",
       "      <td>3</td>\n",
       "      <td>3</td>\n",
       "      <td>4</td>\n",
       "    </tr>\n",
       "    <tr>\n",
       "      <th>top</th>\n",
       "      <td>241-480</td>\n",
       "      <td>61-120</td>\n",
       "      <td>No</td>\n",
       "      <td>KCI</td>\n",
       "    </tr>\n",
       "    <tr>\n",
       "      <th>freq</th>\n",
       "      <td>206</td>\n",
       "      <td>214</td>\n",
       "      <td>318</td>\n",
       "      <td>113</td>\n",
       "    </tr>\n",
       "  </tbody>\n",
       "</table>\n",
       "</div>\n",
       "      <button class=\"colab-df-convert\" onclick=\"convertToInteractive('df-3d28d70b-f58f-4091-a36f-df08facb5021')\"\n",
       "              title=\"Convert this dataframe to an interactive table.\"\n",
       "              style=\"display:none;\">\n",
       "        \n",
       "  <svg xmlns=\"http://www.w3.org/2000/svg\" height=\"24px\"viewBox=\"0 0 24 24\"\n",
       "       width=\"24px\">\n",
       "    <path d=\"M0 0h24v24H0V0z\" fill=\"none\"/>\n",
       "    <path d=\"M18.56 5.44l.94 2.06.94-2.06 2.06-.94-2.06-.94-.94-2.06-.94 2.06-2.06.94zm-11 1L8.5 8.5l.94-2.06 2.06-.94-2.06-.94L8.5 2.5l-.94 2.06-2.06.94zm10 10l.94 2.06.94-2.06 2.06-.94-2.06-.94-.94-2.06-.94 2.06-2.06.94z\"/><path d=\"M17.41 7.96l-1.37-1.37c-.4-.4-.92-.59-1.43-.59-.52 0-1.04.2-1.43.59L10.3 9.45l-7.72 7.72c-.78.78-.78 2.05 0 2.83L4 21.41c.39.39.9.59 1.41.59.51 0 1.02-.2 1.41-.59l7.78-7.78 2.81-2.81c.8-.78.8-2.07 0-2.86zM5.41 20L4 18.59l7.72-7.72 1.47 1.35L5.41 20z\"/>\n",
       "  </svg>\n",
       "      </button>\n",
       "      \n",
       "  <style>\n",
       "    .colab-df-container {\n",
       "      display:flex;\n",
       "      flex-wrap:wrap;\n",
       "      gap: 12px;\n",
       "    }\n",
       "\n",
       "    .colab-df-convert {\n",
       "      background-color: #E8F0FE;\n",
       "      border: none;\n",
       "      border-radius: 50%;\n",
       "      cursor: pointer;\n",
       "      display: none;\n",
       "      fill: #1967D2;\n",
       "      height: 32px;\n",
       "      padding: 0 0 0 0;\n",
       "      width: 32px;\n",
       "    }\n",
       "\n",
       "    .colab-df-convert:hover {\n",
       "      background-color: #E2EBFA;\n",
       "      box-shadow: 0px 1px 2px rgba(60, 64, 67, 0.3), 0px 1px 3px 1px rgba(60, 64, 67, 0.15);\n",
       "      fill: #174EA6;\n",
       "    }\n",
       "\n",
       "    [theme=dark] .colab-df-convert {\n",
       "      background-color: #3B4455;\n",
       "      fill: #D2E3FC;\n",
       "    }\n",
       "\n",
       "    [theme=dark] .colab-df-convert:hover {\n",
       "      background-color: #434B5C;\n",
       "      box-shadow: 0px 1px 3px 1px rgba(0, 0, 0, 0.15);\n",
       "      filter: drop-shadow(0px 1px 2px rgba(0, 0, 0, 0.3));\n",
       "      fill: #FFFFFF;\n",
       "    }\n",
       "  </style>\n",
       "\n",
       "      <script>\n",
       "        const buttonEl =\n",
       "          document.querySelector('#df-3d28d70b-f58f-4091-a36f-df08facb5021 button.colab-df-convert');\n",
       "        buttonEl.style.display =\n",
       "          google.colab.kernel.accessAllowed ? 'block' : 'none';\n",
       "\n",
       "        async function convertToInteractive(key) {\n",
       "          const element = document.querySelector('#df-3d28d70b-f58f-4091-a36f-df08facb5021');\n",
       "          const dataTable =\n",
       "            await google.colab.kernel.invokeFunction('convertToInteractive',\n",
       "                                                     [key], {});\n",
       "          if (!dataTable) return;\n",
       "\n",
       "          const docLinkHtml = 'Like what you see? Visit the ' +\n",
       "            '<a target=\"_blank\" href=https://colab.research.google.com/notebooks/data_table.ipynb>data table notebook</a>'\n",
       "            + ' to learn more about interactive tables.';\n",
       "          element.innerHTML = '';\n",
       "          dataTable['output_type'] = 'display_data';\n",
       "          await google.colab.output.renderOutput(dataTable, element);\n",
       "          const docLink = document.createElement('div');\n",
       "          docLink.innerHTML = docLinkHtml;\n",
       "          element.appendChild(docLink);\n",
       "        }\n",
       "      </script>\n",
       "    </div>\n",
       "  </div>\n",
       "  "
      ],
      "text/plain": [
       "       studyTime travelTime absence school\n",
       "count        398        398     397    400\n",
       "unique         4          3       3      4\n",
       "top      241-480     61-120      No    KCI\n",
       "freq         206        214     318    113"
      ]
     },
     "metadata": {},
     "output_type": "display_data"
    }
   ],
   "source": [
    "display(X_raw.select_dtypes(exclude=np.number).describe())"
   ]
  },
  {
   "cell_type": "markdown",
   "metadata": {
    "id": "J6wQmbyxkyvz"
   },
   "source": [
    "Let's try checking the unique values for each cateogrical column:"
   ]
  },
  {
   "cell_type": "code",
   "execution_count": null,
   "metadata": {
    "colab": {
     "base_uri": "https://localhost:8080/"
    },
    "id": "1ThqCuFZ1UBG",
    "outputId": "c70345fa-2300-426e-aa90-ae91a73db6b4"
   },
   "outputs": [
    {
     "name": "stdout",
     "output_type": "stream",
     "text": [
      "['241-480' '121-240' '61-120' '0-60' nan]\n",
      "['61-120' '0-30' '31-60' nan]\n",
      "['No' 'Yes' nan 'Absent']\n",
      "['KCI' 'KGV' 'KHV' 'QE2']\n"
     ]
    }
   ],
   "source": [
    "print(pd.unique(X_raw['studyTime']))\n",
    "print(pd.unique(X_raw['travelTime']))\n",
    "print(pd.unique(X_raw['absence']))\n",
    "print(pd.unique(X_raw['school']))"
   ]
  },
  {
   "cell_type": "markdown",
   "metadata": {
    "id": "2eEDf66NlVxH"
   },
   "source": [
    "The rest seem fine (NaNs aside, which we will fix soon), but the problem with 'absence' is that someone was marked as 'Absent', but in this column that is the same as being flagged 'Yes', so let's fix that:"
   ]
  },
  {
   "cell_type": "code",
   "execution_count": null,
   "metadata": {
    "colab": {
     "base_uri": "https://localhost:8080/"
    },
    "id": "fiy1RnSt2xNC",
    "outputId": "521d6ab4-4c5e-43e4-91b9-e527e818c1a0"
   },
   "outputs": [
    {
     "name": "stdout",
     "output_type": "stream",
     "text": [
      "['No' 'Yes' 'nan']\n"
     ]
    }
   ],
   "source": [
    "X_raw[\"absence\"] = X_raw[\"absence\"].apply(lambda x: str(x).replace(\"Absent\", \"Yes\"))\n",
    "\n",
    "print(pd.unique(X_raw['absence']))"
   ]
  },
  {
   "cell_type": "markdown",
   "metadata": {
    "id": "T8nGOEPZqueE"
   },
   "source": [
    "## 1.4 Data Splitting"
   ]
  },
  {
   "cell_type": "markdown",
   "metadata": {
    "id": "tN9F5IHyq2Ad"
   },
   "source": [
    "Now that the outliers are dealt with, it is time to start setting up our machine learning workflow. As demonstrated in the lecture, it is actually critical that we hold back some data that our model hasn't been trained on to evaluate it's performance when being tested on new data (as this is the entire point of making these models, after all). I will talk about the theory behind data splitting in much more detail next week, but for now we will just hold back $20\\%$ as 'test; data, while we train our models using the other $80\\%$. The easiest way to do this is using the sklearn `train_test_split` function."
   ]
  },
  {
   "cell_type": "code",
   "execution_count": null,
   "metadata": {
    "id": "ucyBjM6gsE5z"
   },
   "outputs": [],
   "source": [
    "X_train_raw, X_test_raw, y_train, y_test = train_test_split(X_raw, y_raw, test_size=0.20, shuffle=True, random_state=0)"
   ]
  },
  {
   "cell_type": "markdown",
   "metadata": {
    "id": "khIXjsvknk05"
   },
   "source": [
    "## 1.3 Data cleaning (imputation)"
   ]
  },
  {
   "cell_type": "markdown",
   "metadata": {
    "id": "I4ckui7tnsVr"
   },
   "source": [
    "We've spotted a number of missing values in our data (NaNs), so the question is what to do about them - as we can't run our ML models with NaN values. Much like the outlier question, there is no one 'correct' way to approach this. If you have lots of data, maybe you feel you can get away with just removing the rows with incomplete data entirely. On the other end of the scale, maybe you will go and do more research to find out the missing values, or even use other models/statistics to work out the most likely value.\n",
    "\n",
    "However, probably the easiest and most common approach is to use a naive imputation strategy.\n",
    "\n",
    "This is done in a similar manner to the feature scaling done last week - we need to create a [SimpleImputer](https://scikit-learn.org/stable/modules/generated/sklearn.impute.SimpleImputer.html) object, `fit` this to our training data only, then use this to `transform` our train AND test data.\n",
    "\n",
    "Note, there are 4 types of imputing this covers:\n",
    "1.   'mean' - Numerical only, replaces missing values with the mean value for the feature.\n",
    "2.   'median'- Numerical only, replaces missing values with the median value for the feature.\n",
    "3.   'most frequent'- Numerical and categorical, replaces missing values with the most frequent (mode) value/string observed.\n",
    "4.   'constant' - Numerical and categorical, replaces missing values with a defined constant value.\n",
    "\n",
    "For this case, we are going to use a mean encoder on our numeric columns, and a most frequent strategy for our categorical columns.\n",
    "\n"
   ]
  },
  {
   "cell_type": "code",
   "execution_count": null,
   "metadata": {
    "id": "H7U8JwNg7Vqf"
   },
   "outputs": [],
   "source": [
    "# To apply the different imputers, we first have to split our data into seperate numerical and categorical data\n",
    "X_train_num = X_train_raw.select_dtypes(include=np.number)\n",
    "X_train_cat = X_train_raw.select_dtypes(exclude=np.number)\n",
    "\n",
    "# Create our imputer objects\n",
    "numeric_imputer = SimpleImputer(strategy='mean')\n",
    "categorical_imputer = SimpleImputer(strategy='most_frequent')\n",
    "\n",
    "# Fit the imputers on the training data\n",
    "numeric_imputer.fit(X_train_num)\n",
    "categorical_imputer.fit(X_train_cat)\n",
    "\n",
    "# Transform the columns\n",
    "# Training\n",
    "X_train_num_imp = numeric_imputer.transform(X_train_num)\n",
    "X_train_cat_imp = categorical_imputer.transform(X_train_cat)\n",
    "\n",
    "#We also need to split and transform our test data\n",
    "X_test_num = X_test_raw.select_dtypes(include=np.number)\n",
    "X_test_cat = X_test_raw.select_dtypes(exclude=np.number)\n",
    "X_test_num_imp = numeric_imputer.transform(X_test_num)\n",
    "X_test_cat_imp = categorical_imputer.transform(X_test_cat)"
   ]
  },
  {
   "cell_type": "markdown",
   "metadata": {
    "id": "VJk1fAavxPuv"
   },
   "source": [
    "## 1.4 Feature Scaling"
   ]
  },
  {
   "cell_type": "markdown",
   "metadata": {
    "id": "K_NFSvHixUe7"
   },
   "source": [
    "Another pre-procssing step that we want to consider at this point is the feature scaling you were shown last week. It's generally always a good idea to perform some kind of feature scaling on your numeric columns (note, categorical columns never need feature scaling!). In this case I will use Normalisation (MinMaxScaling), as I know the test/quiz results are within fixed bounds so there can't be any legitimate outliers to skew the scale, but standardisation should also work."
   ]
  },
  {
   "cell_type": "code",
   "execution_count": null,
   "metadata": {
    "id": "4XXySqL0yHLT"
   },
   "outputs": [],
   "source": [
    "# Scaler Object\n",
    "scaler = MinMaxScaler()\n",
    "# Fit on the numeric training data\n",
    "scaler.fit(X_train_num_imp)\n",
    "# Transform the training and test data\n",
    "X_train_num_sca = scaler.transform(X_train_num_imp)\n",
    "X_test_num_sca = scaler.transform(X_test_num_imp)\n"
   ]
  },
  {
   "cell_type": "markdown",
   "metadata": {
    "id": "F0iKCKKSz6_v"
   },
   "source": [
    "## 1.5 Categorical Feature Encoding"
   ]
  },
  {
   "cell_type": "markdown",
   "metadata": {
    "id": "yroC3gbV0EQA"
   },
   "source": [
    "While we don't need to scale our categorical features, we still need to convert them into numerical values that our ML models can use. There are a few ways the problem of categorical features can be approached, but for now we will focus only on [one-hot encoding](https://scikit-learn.org/stable/modules/generated/sklearn.preprocessing.OneHotEncoder.html#sklearn.preprocessing.OneHotEncoder). For each feature, this expands the columns in the dataset to have one column per category using a 0/1 indicator to mark which category is true for each data point.\n",
    "\n",
    "This is genrally considered a better solution than basic label encoding, as there is no ordering/scale between the categories being implied. However, there is actually is no benefit to using OHE for categorical features with only two catgories (as you will just end up with two columns where the 1's and 0's are inverted, which adds nothing to the model) and OHE can also cause an issue by causing the dimensionality of the data to increase, which brings it's own set of issues."
   ]
  },
  {
   "cell_type": "code",
   "execution_count": null,
   "metadata": {
    "id": "aHDboB4Nz6bt"
   },
   "outputs": [],
   "source": [
    "# create the encoder object\n",
    "encoder = OneHotEncoder(handle_unknown='ignore', sparse=False)\n",
    "# Fit encoder on the training data\n",
    "encoder.fit(X_train_cat_imp)\n",
    "# Transform the test and train data\n",
    "X_train_onehot = encoder.transform(X_train_cat_imp)\n",
    "X_test_onehot = encoder.transform(X_test_cat_imp)"
   ]
  },
  {
   "cell_type": "markdown",
   "metadata": {
    "id": "XCG42rUo2zpC"
   },
   "source": [
    "## 1.6 Pre-Processing Summary\n",
    "\n",
    "Now we just need to pull our numerical and cateogrical columns back into a single feature matrix, which we can do like so:"
   ]
  },
  {
   "cell_type": "code",
   "execution_count": null,
   "metadata": {
    "colab": {
     "base_uri": "https://localhost:8080/"
    },
    "id": "bbB661023N8N",
    "outputId": "1227e5b8-660c-4d4f-8ed7-255c2a171daf"
   },
   "outputs": [
    {
     "name": "stdout",
     "output_type": "stream",
     "text": [
      "[[0.78873239 0.77       0.61538462 ... 0.         0.         1.        ]\n",
      " [0.1971831  0.34       0.30769231 ... 0.         0.         0.        ]\n",
      " [0.87323944 0.78       0.76923077 ... 0.         0.         0.        ]\n",
      " ...\n",
      " [0.54929577 0.43       0.92307692 ... 1.         0.         0.        ]\n",
      " [0.6056338  0.59       0.69230769 ... 0.         0.         0.        ]\n",
      " [0.63380282 0.74       0.69230769 ... 1.         0.         0.        ]]\n"
     ]
    }
   ],
   "source": [
    "X_train = np.concatenate([X_train_num_sca, X_train_onehot], axis=1)\n",
    "X_test = np.concatenate([X_test_num_sca, X_test_onehot], axis=1)\n",
    "\n",
    "# We can see the scaled test results and the OHE category columns now.\n",
    "print(X_train)"
   ]
  },
  {
   "cell_type": "markdown",
   "metadata": {
    "id": "IPUbyMk443bG"
   },
   "source": [
    "And now our data should be fully prepared to be used with our ML models. While this process may have seemed very long going over it step by step, in practice most of the preprocessing only takes a few lines of code at the start of your implementation, some of which you might like to pull together into a function to make your code neater, but I will leave it down to you if you would like to implement that in your workflow."
   ]
  },
  {
   "cell_type": "markdown",
   "metadata": {
    "id": "pRM4JsHK5Z2K"
   },
   "source": [
    "# Fitting Machine Learning Models"
   ]
  },
  {
   "cell_type": "markdown",
   "metadata": {
    "id": "L8NU7E6xDixE"
   },
   "source": [
    "## 2.1 Univariate example"
   ]
  },
  {
   "cell_type": "markdown",
   "metadata": {
    "id": "7ybP8LLd0MF5"
   },
   "source": [
    "Now we have our data in the right form, we can start experimenting with ML models. First, let's just give an example of how we would fit a univariate model - in this case using the first mock to predict the final grade.\n",
    "\n",
    "Note: Below I have repeated the pre-processing steps that the data need, but just for the columns we're using rather than the whole data set. Strictly speaking we could just select the columns that we want from the final `X_train` matrix above (as we have now pre-processed all data), but I find the workflow below easier to follow as we can select the features by name at the start of the process. In this case we are only using numeric data so can also skip some pre-processing steps."
   ]
  },
  {
   "cell_type": "code",
   "execution_count": null,
   "metadata": {
    "colab": {
     "base_uri": "https://localhost:8080/",
     "height": 314
    },
    "id": "xLZgOolI0IlD",
    "outputId": "323364ec-efd1-4e19-d4d8-0b951526401b"
   },
   "outputs": [
    {
     "data": {
      "image/png": "[encoded data removed]",
      "text/plain": [
       "<Figure size 432x288 with 1 Axes>"
      ]
     },
     "metadata": {
      "needs_background": "light"
     },
     "output_type": "display_data"
    },
    {
     "name": "stdout",
     "output_type": "stream",
     "text": [
      "Train - MSE: 175.7562 R2 score: 0.5954\n",
      "Test - MSE: 179.7717 R2 score: 0.4846\n"
     ]
    }
   ],
   "source": [
    "# Select Columns - Remember the full list of features are:\n",
    "# ['mock1', 'mock2','quiz','studyTime','travelTime','absence','school']\n",
    "features = ['mock1']\n",
    "X_raw_features = X_raw[features]\n",
    "\n",
    "###############\n",
    "# Preprocessing\n",
    "###############\n",
    "X_train_raw, X_test_raw, y_train, y_test = train_test_split(X_raw_features, y_raw, test_size=0.20, shuffle=True, random_state=0)\n",
    "\n",
    "# Here we only have numerical data, so could skip this step.\n",
    "X_train_num = X_train_raw.select_dtypes(include=np.number)\n",
    "\n",
    "# Create our imputer objects\n",
    "numeric_imputer = SimpleImputer(strategy='mean')\n",
    "\n",
    "# Fit the imputers on the training data\n",
    "numeric_imputer.fit(X_train_num)\n",
    "\n",
    "# Transform the columns\n",
    "# Training\n",
    "X_train_num_imp = numeric_imputer.transform(X_train_num)\n",
    "\n",
    "#We also need to split and transform our test data\n",
    "X_test_num = X_test_raw.select_dtypes(include=np.number)\n",
    "X_test_num_imp = numeric_imputer.transform(X_test_num)\n",
    "\n",
    "# Scaler Object\n",
    "scaler = MinMaxScaler()\n",
    "# Fit on the numeric training data\n",
    "scaler.fit(X_train_num_imp)\n",
    "# Transform the training and test data\n",
    "X_train_num_sca = scaler.transform(X_train_num_imp)\n",
    "X_test_num_sca = scaler.transform(X_test_num_imp)\n",
    "\n",
    "X_train = X_train_num_sca\n",
    "X_test = X_test_num_sca\n",
    "\n",
    "###################\n",
    "# End preprocessing\n",
    "###################\n",
    "\n",
    "# Create linear regression object\n",
    "obj = sklearn.linear_model.LinearRegression()\n",
    "\n",
    "# Train the model using the training sets\n",
    "obj.fit(X_train, y_train)\n",
    "\n",
    "# We can make a prediction with the training data\n",
    "y_pred_train = obj.predict(X_train)\n",
    "# Remember the predictions with the new data give a better indiction of the true model performance.\n",
    "# Make predictions using the testing set\n",
    "y_pred = obj.predict(X_test)\n",
    "\n",
    "# I decided that for visualisation i wanted to use mock1.\n",
    "X_disp = X_test[:,0] # We have to choose a single column of the feature matrix so we can plot a 2D scatter plot.\n",
    "\n",
    "# Plot outputs\n",
    "plt.scatter(X_disp, y_test,  color='black', label='y_test') # Observed y values\n",
    "plt.scatter(X_disp, y_pred, color='blue', label='y_pred') # predicted y values\n",
    "plt.xlabel('Feature')\n",
    "plt.ylabel('Final Grade')\n",
    "plt.legend()\n",
    "plt.show()\n",
    "\n",
    "# The mean squared error loss and R2 for the test and train data\n",
    "print('Train - MSE: {:.4f} R2 score: {:.4f}'.format(sklearn.metrics.mean_squared_error(y_train, y_pred_train),sklearn.metrics.r2_score(y_train, y_pred_train)))\n",
    "print('Test - MSE: {:.4f} R2 score: {:.4f}'.format(sklearn.metrics.mean_squared_error(y_test, y_pred),sklearn.metrics.r2_score(y_test, y_pred)))"
   ]
  },
  {
   "cell_type": "markdown",
   "metadata": {
    "id": "6fQFuZO3PahC"
   },
   "source": [
    "We can see our univariate model isn't great - only explaining around half of the variation in the data, but are the other numerical columns any better?"
   ]
  },
  {
   "cell_type": "markdown",
   "metadata": {
    "id": "b-BVZy1XPzh4"
   },
   "source": [
    "## 2.2 Exercise 1"
   ]
  },
  {
   "cell_type": "markdown",
   "metadata": {
    "id": "wJUKq11hP2rc"
   },
   "source": [
    "Try the other numeric colums ('mock1', 'mock2', 'quiz'), and see which is best for predicting the Final Grade."
   ]
  },
  {
   "cell_type": "code",
   "execution_count": null,
   "metadata": {
    "id": "_kQTXYaiDjUG"
   },
   "outputs": [],
   "source": [
    "##############################################################\n",
    "# Your code here\n",
    "##############################################################"
   ]
  },
  {
   "cell_type": "markdown",
   "metadata": {
    "id": "fti8CpxrSvxC"
   },
   "source": [
    "## 2.3 Exercise 2"
   ]
  },
  {
   "cell_type": "markdown",
   "metadata": {
    "id": "2zwIFldSSyRF"
   },
   "source": [
    "Now try and fit a model with all three features at once. Then try fitting the features in pairs (recording your results) - is it best to use all three features at once?\n",
    "\n",
    "What do you notice about the difference in the evaluation metrics between our training and test predictions as we add more features?"
   ]
  },
  {
   "cell_type": "code",
   "execution_count": null,
   "metadata": {
    "id": "OD6H_vxCDyE6"
   },
   "outputs": [],
   "source": [
    "##############################################################\n",
    "# Your code here\n",
    "##############################################################"
   ]
  },
  {
   "cell_type": "markdown",
   "metadata": {
    "id": "vIcQxOG_XEob"
   },
   "source": [
    "## 2.4 Exercise 3\n"
   ]
  },
  {
   "cell_type": "markdown",
   "metadata": {
    "id": "f30pcm97XKgt"
   },
   "source": [
    "Now try including the categorical features ('studyTime', 'travelTime', 'absence', 'school'). Does the model this creates show signs of overfitting or underfitting?"
   ]
  },
  {
   "cell_type": "code",
   "execution_count": null,
   "metadata": {
    "id": "cpekatSiXbn1"
   },
   "outputs": [],
   "source": [
    "##############################################################\n",
    "# Your code here\n",
    "##############################################################"
   ]
  },
  {
   "cell_type": "markdown",
   "metadata": {
    "id": "lWqFJZlt_ITv"
   },
   "source": [
    "## 2.5 Exercise 4\n",
    "\n",
    "I have a different set of (also fake) exam scores from a differnt year saved in the file on moodle called `examData_2.csv`. Try loading these and fitting the best ML model you can. I was able to get a test $R^2$ of 0.9587.\n",
    "\n",
    "Some points to consider:\n",
    "*   The data has no outliers, but is missing values\n",
    "*   Column names, number of columns and column values may be different.\n",
    "*   Try experimenting with different imputation strategies and feature scaling to see if this improves the model.\n",
    "*   You may want to try experimenting with not including all of the features to see if any can be removed without significantly harming the score (especially if you are using polynomial features - see below).\n",
    "*   If you feel you have fit the best model you can with multi-variable regression using all the numeric and categorical features, try including [PolynomialFeatures](https://scikit-learn.org/stable/modules/generated/sklearn.preprocessing.PolynomialFeatures.html?highlight=polynomial#sklearn.preprocessing.PolynomialFeatures). Though, unless you are very clever about how you implement them, you are likely to actually get worse results on the **test** predictions (it *will* make the training predictions improve) - do you understand why this is?\n",
    "\n",
    "\n",
    "\n",
    "\n"
   ]
  },
  {
   "cell_type": "code",
   "execution_count": null,
   "metadata": {
    "id": "-nspgBt-cdMR"
   },
   "outputs": [],
   "source": [
    "##############################################################\n",
    "# Your code here\n",
    "##############################################################"
   ]
  }
 ],
 "metadata": {
  "colab": {
   "provenance": [],
   "toc_visible": true
  },
  "kernelspec": {
   "display_name": "Python 3 (ipykernel)",
   "language": "python",
   "name": "python3"
  },
  "language_info": {
   "codemirror_mode": {
    "name": "ipython",
    "version": 3
   },
   "file_extension": ".py",
   "mimetype": "text/x-python",
   "name": "python",
   "nbconvert_exporter": "python",
   "pygments_lexer": "ipython3",
   "version": "3.9.13"
  }
 },
 "nbformat": 4,
 "nbformat_minor": 1
}
